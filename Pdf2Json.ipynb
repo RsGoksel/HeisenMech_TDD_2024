{
 "cells": [
  {
   "cell_type": "code",
   "execution_count": null,
   "id": "0be62703-4a9d-468a-833e-3fcdb454a03c",
   "metadata": {},
   "outputs": [],
   "source": [
    "from model import *\n",
    "conversation = get_conversation(API='gsk_*************************')\n",
    "\n",
    "system_prompt = \"\"\"Sana verilen bilgileri ele alarak instruction, input, output formatında veri seti oluştur\"\"\"\n",
    "\n",
    "response_2 = conversation.predict(human_input=string)"
   ]
  },
  {
   "cell_type": "code",
   "execution_count": null,
   "id": "077a4872-03fc-4544-83b6-20b1cf72026d",
   "metadata": {},
   "outputs": [],
   "source": [
    "#lama3 chat !wget https://huggingface.co/bartowski/llama-3-neural-chat-v1-8b-GGUF/resolve/main/llama-3-neural-chat-v1-8b-Q8_0.gguf?download=true\n",
    "import os\n",
    "from model import *\n",
    "from Tools import *\n",
    "from PyPDF2 import PdfReader\n",
    "\n",
    "file_name = './10_temel_finans_okuryazarligi.pdf'\n",
    "\n",
    "conversation = get_conversation()\n",
    "#conversation = Get_Nvidia(\"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\")\n",
    "\n",
    "pdf_file = open(file_name, 'rb')\n",
    "pdfReader = PdfReader(pdf_file)\n",
    "\n",
    "os.makedirs(file_name[:-4]+'_json', exist_ok=True)\n",
    "\n",
    "initilaize_page  = 13\n",
    "termination_page = len(pdfReader.pages)\n",
    "\n",
    "counter_holder = initilaize_page \n",
    "\n",
    "while True:\n",
    "    try:\n",
    "        for i in range(counter_holder, termination_page):\n",
    "            counter_holder = i\n",
    "            \n",
    "            string = extract_singlepage_from_pdf_writer(file_name, i)\n",
    "            \n",
    "            response = conversation.predict(human_input=string)\n",
    "            #response = predict(client, string)\n",
    "            \n",
    "            json_data = json.dumps(extract_data(response), ensure_ascii=False, indent=4)\n",
    "            \n",
    "            with open(f\"{file_name[:-4]}_json/{file_name[:-4]}_{i}.json\", 'w', encoding='utf-8') as f:\n",
    "                f.write(json_data)\n",
    "            print(file_name[:-4]+'_json'+'/'+file_name[:-4]+'_'+str(i) + \"Yazıldı\")\n",
    "        break  \n",
    "    except Exception as e:\n",
    "        print(f\"Hata meydana geldi ->sayfa -> {counter_holder}: {e}\")\n",
    "        print(\"Tekrar deneniyor...\")"
   ]
  }
 ],
 "metadata": {
  "kernelspec": {
   "display_name": "okan",
   "language": "python",
   "name": "okan"
  },
  "language_info": {
   "codemirror_mode": {
    "name": "ipython",
    "version": 3
   },
   "file_extension": ".py",
   "mimetype": "text/x-python",
   "name": "python",
   "nbconvert_exporter": "python",
   "pygments_lexer": "ipython3",
   "version": "3.9.19"
  }
 },
 "nbformat": 4,
 "nbformat_minor": 5
}
