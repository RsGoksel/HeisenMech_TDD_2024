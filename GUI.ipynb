{
 "cells": [
  {
   "cell_type": "code",
   "execution_count": null,
   "id": "1f49a0c5-75b6-45b8-b7a0-b9fcf76907a4",
   "metadata": {},
   "outputs": [],
   "source": [
    "#https://chatgpt.com/share/d4cb5bf5-0a02-4191-a4df-5160f6c126c2\n",
    "\n",
    "from API import *\n",
    "\n",
    "\"\"\"\n",
    "dataset links:\n",
    "    finqa -> https://huggingface.co/datasets/FinGPT/fingpt-finred?row=8\n",
    "\n",
    "    \n",
    "    sentiment -> https://huggingface.co/datasets/FinGPT/fingpt-sentiment-cls?row=0\n",
    "\n",
    "    fingpt -> https://huggingface.co/datasets/FinGPT/fingpt-sentiment-train\n",
    "\n",
    "    forecaster-> https://huggingface.co/datasets/FinGPT/fingpt-forecaster-dow30-202305-202405?row=1\n",
    "\"\"\"\n",
    "\n",
    "\"\"\"\n",
    "API class'ı metodları:\n",
    "    \n",
    "    fetch_market_data(sembol: Str) -> ilgili değerin (örn: BTCUSDT) piyasa değerini döndürür. \n",
    "\n",
    "    get_df(klines: client.get_historical_klines) -> İlgili değerin, verilen aralık kapsamındaki piyasa değerini veri çerçevesi olarak döndürür.\n",
    "\n",
    "    display_plot(data_frame: pandas_dataframe, interval: Client.KLINE_INTERVAL, symbol: Str) -> ilgili aralık ve değer için elde edilmiş veri setini alarak görsel grafik döndürür.\n",
    "\n",
    "\n",
    "\"\"\"\n",
    "\n",
    "popular_symbols = [\n",
    "    'BTCUSDT',\n",
    "    'ETHUSDT',\n",
    "    'BNBUSDT',\n",
    "    'XRPUSDT',\n",
    "    'LTCUSDT'\n",
    "]\n",
    "\n",
    "for symbol in popular_symbols:\n",
    "    data = fetch_market_data(symbol)\n",
    "    print(f\"Symbol: {data['symbol']}\")\n",
    "    print(f\"Price: {data['price']}\")\n",
    "    print()\n"
   ]
  },
  {
   "cell_type": "code",
   "execution_count": 1,
   "id": "af24b0d4-8f70-41e1-bde1-5fd2aa3c1e8d",
   "metadata": {
    "collapsed": true,
    "jupyter": {
     "outputs_hidden": true
    }
   },
   "outputs": [
    {
     "name": "stdout",
     "output_type": "stream",
     "text": [
      "07 Temmuz 2024 Özeti: - Açılış Fiyatı: 3066.83 USDT - En Yüksek Fiyat: 3073.08 USDT - En Düşük Fiyat: 2922.24 USDT - Kapanış Fiyatı: 2931.00 USDT - Toplam Hacim: 179892.76 units - İşlem Sayısı: 878707.0 trades - Market Trendi: Aşağı Yönlü \n",
      " 08 Temmuz 2024 Özeti: - Açılış Fiyatı: 2930.99 USDT - En Yüksek Fiyat: 3097.06 USDT - En Düşük Fiyat: 2822.80 USDT - Kapanış Fiyatı: 3019.01 USDT - Toplam Hacim: 500445.01 units - İşlem Sayısı: 2222940.0 trades - Market Trendi: Yukarı Yönlü \n",
      " 09 Temmuz 2024 Özeti: - Açılış Fiyatı: 3019.01 USDT - En Yüksek Fiyat: 3115.20 USDT - En Düşük Fiyat: 3004.00 USDT - Kapanış Fiyatı: 3066.65 USDT - Toplam Hacim: 280358.14 units - İşlem Sayısı: 1377129.0 trades - Market Trendi: Yukarı Yönlü \n",
      " 10 Temmuz 2024 Özeti: - Açılış Fiyatı: 3066.65 USDT - En Yüksek Fiyat: 3151.51 USDT - En Düşük Fiyat: 3024.00 USDT - Kapanış Fiyatı: 3101.05 USDT - Toplam Hacim: 270827.08 units - İşlem Sayısı: 1296218.0 trades - Market Trendi: Yukarı Yönlü \n",
      " 11 Temmuz 2024 Özeti: - Açılış Fiyatı: 3101.06 USDT - En Yüksek Fiyat: 3217.24 USDT - En Düşük Fiyat: 3054.76 USDT - Kapanış Fiyatı: 3099.57 USDT - Toplam Hacim: 289229.32 units - İşlem Sayısı: 1413031.0 trades - Market Trendi: Aşağı Yönlü \n",
      " 12 Temmuz 2024 Özeti: - Açılış Fiyatı: 3099.57 USDT - En Yüksek Fiyat: 3157.89 USDT - En Düşük Fiyat: 3045.58 USDT - Kapanış Fiyatı: 3133.88 USDT - Toplam Hacim: 185745.18 units - İşlem Sayısı: 1094915.0 trades - Market Trendi: Yukarı Yönlü \n",
      " 13 Temmuz 2024 Özeti: - Açılış Fiyatı: 3133.89 USDT - En Yüksek Fiyat: 3201.80 USDT - En Düşük Fiyat: 3113.37 USDT - Kapanış Fiyatı: 3175.93 USDT - Toplam Hacim: 119302.48 units - İşlem Sayısı: 591291.0 trades - Market Trendi: Yukarı Yönlü \n",
      " 14 Temmuz 2024 Özeti: - Açılış Fiyatı: 3175.93 USDT - En Yüksek Fiyat: 3268.72 USDT - En Düşük Fiyat: 3163.67 USDT - Kapanış Fiyatı: 3245.08 USDT - Toplam Hacim: 165430.77 units - İşlem Sayısı: 792858.0 trades - Market Trendi: Yukarı Yönlü \n",
      " 15 Temmuz 2024 Özeti: - Açılış Fiyatı: 3245.20 USDT - En Yüksek Fiyat: 3493.63 USDT - En Düşük Fiyat: 3233.22 USDT - Kapanış Fiyatı: 3483.39 USDT - Toplam Hacim: 314296.85 units - İşlem Sayısı: 1617276.0 trades - Market Trendi: Yukarı Yönlü \n",
      " 16 Temmuz 2024 Özeti: - Açılış Fiyatı: 3483.20 USDT - En Yüksek Fiyat: 3498.59 USDT - En Düşük Fiyat: 3346.55 USDT - Kapanış Fiyatı: 3444.13 USDT - Toplam Hacim: 376128.79 units - İşlem Sayısı: 1636557.0 trades - Market Trendi: Aşağı Yönlü \n",
      " 17 Temmuz 2024 Özeti: - Açılış Fiyatı: 3444.14 USDT - En Yüksek Fiyat: 3517.00 USDT - En Düşük Fiyat: 3376.00 USDT - Kapanış Fiyatı: 3387.05 USDT - Toplam Hacim: 297812.52 units - İşlem Sayısı: 1285615.0 trades - Market Trendi: Aşağı Yönlü \n",
      " 18 Temmuz 2024 Özeti: - Açılış Fiyatı: 3387.05 USDT - En Yüksek Fiyat: 3489.98 USDT - En Düşük Fiyat: 3367.20 USDT - Kapanış Fiyatı: 3426.50 USDT - Toplam Hacim: 241950.35 units - İşlem Sayısı: 1165443.0 trades - Market Trendi: Yukarı Yönlü \n",
      " 19 Temmuz 2024 Özeti: - Açılış Fiyatı: 3426.49 USDT - En Yüksek Fiyat: 3540.27 USDT - En Düşük Fiyat: 3377.00 USDT - Kapanış Fiyatı: 3503.53 USDT - Toplam Hacim: 299511.64 units - İşlem Sayısı: 1262244.0 trades - Market Trendi: Yukarı Yönlü \n",
      " 20 Temmuz 2024 Özeti: - Açılış Fiyatı: 3503.53 USDT - En Yüksek Fiyat: 3539.65 USDT - En Düşük Fiyat: 3480.00 USDT - Kapanış Fiyatı: 3517.50 USDT - Toplam Hacim: 147510.82 units - İşlem Sayısı: 667108.0 trades - Market Trendi: Yukarı Yönlü \n",
      " 21 Temmuz 2024 Özeti: - Açılış Fiyatı: 3517.50 USDT - En Yüksek Fiyat: 3547.00 USDT - En Düşük Fiyat: 3411.40 USDT - Kapanış Fiyatı: 3535.92 USDT - Toplam Hacim: 218890.97 units - İşlem Sayısı: 961322.0 trades - Market Trendi: Yukarı Yönlü \n",
      " 22 Temmuz 2024 Özeti: - Açılış Fiyatı: 3535.93 USDT - En Yüksek Fiyat: 3562.82 USDT - En Düşük Fiyat: 3422.34 USDT - Kapanış Fiyatı: 3439.60 USDT - Toplam Hacim: 207859.50 units - İşlem Sayısı: 1069762.0 trades - Market Trendi: Aşağı Yönlü \n",
      " 23 Temmuz 2024 Özeti: - Açılış Fiyatı: 3439.61 USDT - En Yüksek Fiyat: 3541.00 USDT - En Düşük Fiyat: 3389.00 USDT - Kapanış Fiyatı: 3482.51 USDT - Toplam Hacim: 500568.78 units - İşlem Sayısı: 1617621.0 trades - Market Trendi: Yukarı Yönlü \n",
      " 24 Temmuz 2024 Özeti: - Açılış Fiyatı: 3482.51 USDT - En Yüksek Fiyat: 3487.82 USDT - En Düşük Fiyat: 3300.00 USDT - Kapanış Fiyatı: 3335.81 USDT - Toplam Hacim: 275479.05 units - İşlem Sayısı: 980283.0 trades - Market Trendi: Aşağı Yönlü \n",
      " 25 Temmuz 2024 Özeti: - Açılış Fiyatı: 3335.82 USDT - En Yüksek Fiyat: 3342.50 USDT - En Düşük Fiyat: 3087.53 USDT - Kapanış Fiyatı: 3175.48 USDT - Toplam Hacim: 494282.64 units - İşlem Sayısı: 2011527.0 trades - Market Trendi: Aşağı Yönlü \n",
      " 26 Temmuz 2024 Özeti: - Açılış Fiyatı: 3175.47 USDT - En Yüksek Fiyat: 3286.36 USDT - En Düşük Fiyat: 3171.00 USDT - Kapanış Fiyatı: 3274.61 USDT - Toplam Hacim: 260237.46 units - İşlem Sayısı: 1169246.0 trades - Market Trendi: Yukarı Yönlü \n",
      " 27 Temmuz 2024 Özeti: - Açılış Fiyatı: 3274.60 USDT - En Yüksek Fiyat: 3327.59 USDT - En Düşük Fiyat: 3191.01 USDT - Kapanış Fiyatı: 3249.01 USDT - Toplam Hacim: 231991.90 units - İşlem Sayısı: 1076809.0 trades - Market Trendi: Aşağı Yönlü \n",
      " 28 Temmuz 2024 Özeti: - Açılış Fiyatı: 3249.00 USDT - En Yüksek Fiyat: 3284.30 USDT - En Düşük Fiyat: 3198.11 USDT - Kapanış Fiyatı: 3270.16 USDT - Toplam Hacim: 103529.83 units - İşlem Sayısı: 682428.0 trades - Market Trendi: Yukarı Yönlü \n",
      " 29 Temmuz 2024 Özeti: - Açılış Fiyatı: 3270.16 USDT - En Yüksek Fiyat: 3396.77 USDT - En Düşük Fiyat: 3258.00 USDT - Kapanış Fiyatı: 3317.66 USDT - Toplam Hacim: 318471.51 units - İşlem Sayısı: 1484898.0 trades - Market Trendi: Yukarı Yönlü \n",
      " 30 Temmuz 2024 Özeti: - Açılış Fiyatı: 3317.66 USDT - En Yüksek Fiyat: 3366.40 USDT - En Düşük Fiyat: 3233.18 USDT - Kapanış Fiyatı: 3279.21 USDT - Toplam Hacim: 197277.16 units - İşlem Sayısı: 1183239.0 trades - Market Trendi: Aşağı Yönlü \n",
      " 31 Temmuz 2024 Özeti: - Açılış Fiyatı: 3279.20 USDT - En Yüksek Fiyat: 3350.00 USDT - En Düşük Fiyat: 3213.75 USDT - Kapanış Fiyatı: 3232.74 USDT - Toplam Hacim: 233711.34 units - İşlem Sayısı: 1337992.0 trades - Market Trendi: Aşağı Yönlü \n",
      " 01 Ağustos 2024 Özeti: - Açılış Fiyatı: 3232.74 USDT - En Yüksek Fiyat: 3242.57 USDT - En Düşük Fiyat: 3080.02 USDT - Kapanış Fiyatı: 3203.40 USDT - Toplam Hacim: 323285.61 units - İşlem Sayısı: 1835455.0 trades - Market Trendi: Aşağı Yönlü \n",
      " 02 Ağustos 2024 Özeti: - Açılış Fiyatı: 3203.40 USDT - En Yüksek Fiyat: 3218.60 USDT - En Düşük Fiyat: 2967.00 USDT - Kapanış Fiyatı: 2989.61 USDT - Toplam Hacim: 385704.04 units - İşlem Sayısı: 2104725.0 trades - Market Trendi: Aşağı Yönlü \n",
      " 03 Ağustos 2024 Özeti: - Açılış Fiyatı: 2989.61 USDT - En Yüksek Fiyat: 3018.02 USDT - En Düşük Fiyat: 2859.00 USDT - Kapanış Fiyatı: 2903.64 USDT - Toplam Hacim: 344595.32 units - İşlem Sayısı: 1798017.0 trades - Market Trendi: Aşağı Yönlü \n",
      " 04 Ağustos 2024 Özeti: - Açılış Fiyatı: 2903.65 USDT - En Yüksek Fiyat: 2935.46 USDT - En Düşük Fiyat: 2630.00 USDT - Kapanış Fiyatı: 2688.92 USDT - Toplam Hacim: 512064.26 units - İşlem Sayısı: 2184760.0 trades - Market Trendi: Aşağı Yönlü\n"
     ]
    }
   ],
   "source": [
    "from API import *\n",
    "\n",
    "symbol = 'ETHUSDT'\n",
    "\n",
    "start_time = \"2024-07-07\"\n",
    "end_time   = \"2024-08-04\"\n",
    "\n",
    "interval = Client.KLINE_INTERVAL_1HOUR\n",
    "interval = Client.KLINE_INTERVAL_1MONTH   \n",
    "interval = Client.KLINE_INTERVAL_1DAY\n",
    "\n",
    "klines = client.get_historical_klines(symbol, interval, start_str=start_time, end_str=end_time)\n",
    "\n",
    "data_frame = get_df(klines)\n",
    "\n",
    "# desteklenen aralık periyotları -> KLINE_INTERVAL_1HOUR, DAY, WEEK, MONTH\n",
    "#display_plot(data_frame, interval, symbol)\n",
    "\n",
    "print(generate_detailed_summary(data_frame, interval='D'))\n"
   ]
  },
  {
   "cell_type": "code",
   "execution_count": null,
   "id": "c35d2690-dafc-430c-93d3-04564ef08602",
   "metadata": {},
   "outputs": [],
   "source": []
  }
 ],
 "metadata": {
  "kernelspec": {
   "display_name": "okan",
   "language": "python",
   "name": "okan"
  },
  "language_info": {
   "codemirror_mode": {
    "name": "ipython",
    "version": 3
   },
   "file_extension": ".py",
   "mimetype": "text/x-python",
   "name": "python",
   "nbconvert_exporter": "python",
   "pygments_lexer": "ipython3",
   "version": "3.9.19"
  }
 },
 "nbformat": 4,
 "nbformat_minor": 5
}
